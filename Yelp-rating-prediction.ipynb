{
 "cells": [
  {
   "cell_type": "code",
   "execution_count": 1,
   "metadata": {},
   "outputs": [],
   "source": [
    "import pandas as pd\n",
    "import tarfile\n",
    "from tqdm import tqdm\n",
    "import json\n",
    "import numpy as np\n",
    "import time\n",
    "from copy import deepcopy"
   ]
  },
  {
   "cell_type": "code",
   "execution_count": null,
   "metadata": {},
   "outputs": [],
   "source": [
    "# Load data\n",
    "zf = tarfile.open('/media/muzamil/Academia/Research/Data/Yelp/text/yelp_dataset')\n",
    "zf.extractall()#('yelp_academic_dataset_review.json')"
   ]
  },
  {
   "cell_type": "code",
   "execution_count": 2,
   "metadata": {},
   "outputs": [
    {
     "name": "stderr",
     "output_type": "stream",
     "text": [
      "100%|██████████| 8021122/8021122 [01:21<00:00, 98228.05it/s] \n"
     ]
    }
   ],
   "source": [
    "line_count = len(open(\"yelp_academic_dataset_review.json\").readlines())\n",
    "user_ids, business_ids, stars, dates, texts = [], [], [], [], []\n",
    "with open(\"yelp_academic_dataset_review.json\") as f:\n",
    "    for line in tqdm(f, total=line_count):\n",
    "        blob = json.loads(line)\n",
    "        user_ids += [blob[\"user_id\"]]\n",
    "        business_ids += [blob[\"business_id\"]]\n",
    "        stars += [blob[\"stars\"]]\n",
    "        dates += [blob[\"date\"]]\n",
    "        texts += [blob[\"text\"]]\n",
    "\n",
    "ratings_ = pd.DataFrame(\n",
    "    {\"user_id\": user_ids, \n",
    "     \"business_id\": business_ids, \n",
    "     \"rating\": stars, \n",
    "     \"date\": dates, \n",
    "     \"text\": texts\n",
    "    }\n",
    ")"
   ]
  },
  {
   "cell_type": "code",
   "execution_count": 3,
   "metadata": {},
   "outputs": [],
   "source": [
    "user_counts = ratings_[\"user_id\"].value_counts()\n",
    "# Retain only active users (≥ 5 ratings)\n",
    "active_users = user_counts.loc[user_counts >= 5]\n",
    "ratings_ = ratings_.loc[ratings_.user_id.isin(active_users)]"
   ]
  },
  {
   "cell_type": "code",
   "execution_count": 4,
   "metadata": {},
   "outputs": [
    {
     "data": {
      "text/html": [
       "<div>\n",
       "<style scoped>\n",
       "    .dataframe tbody tr th:only-of-type {\n",
       "        vertical-align: middle;\n",
       "    }\n",
       "\n",
       "    .dataframe tbody tr th {\n",
       "        vertical-align: top;\n",
       "    }\n",
       "\n",
       "    .dataframe thead th {\n",
       "        text-align: right;\n",
       "    }\n",
       "</style>\n",
       "<table border=\"1\" class=\"dataframe\">\n",
       "  <thead>\n",
       "    <tr style=\"text-align: right;\">\n",
       "      <th></th>\n",
       "      <th>user_id</th>\n",
       "      <th>business_id</th>\n",
       "      <th>rating</th>\n",
       "      <th>date</th>\n",
       "      <th>text</th>\n",
       "    </tr>\n",
       "  </thead>\n",
       "  <tbody>\n",
       "    <tr>\n",
       "      <th>1</th>\n",
       "      <td>nIJD_7ZXHq-FX8byPMOkMQ</td>\n",
       "      <td>lbrU8StCq3yDfr-QMnGrmQ</td>\n",
       "      <td>1.0</td>\n",
       "      <td>2013-12-07 03:16:52</td>\n",
       "      <td>I am actually horrified this place is still in...</td>\n",
       "    </tr>\n",
       "    <tr>\n",
       "      <th>2</th>\n",
       "      <td>V34qejxNsCbcgD8C0HVk-Q</td>\n",
       "      <td>HQl28KMwrEKHqhFrrDqVNQ</td>\n",
       "      <td>5.0</td>\n",
       "      <td>2015-12-05 03:18:11</td>\n",
       "      <td>I love Deagan's. I do. I really do. The atmosp...</td>\n",
       "    </tr>\n",
       "    <tr>\n",
       "      <th>3</th>\n",
       "      <td>ofKDkJKXSKZXu5xJNGiiBQ</td>\n",
       "      <td>5JxlZaqCnk1MnbgRirs40Q</td>\n",
       "      <td>1.0</td>\n",
       "      <td>2011-05-27 05:30:52</td>\n",
       "      <td>Dismal, lukewarm, defrosted-tasting \"TexMex\" g...</td>\n",
       "    </tr>\n",
       "    <tr>\n",
       "      <th>4</th>\n",
       "      <td>UgMW8bLE0QMJDCkQ1Ax5Mg</td>\n",
       "      <td>IS4cv902ykd8wj1TR0N3-A</td>\n",
       "      <td>4.0</td>\n",
       "      <td>2017-01-14 21:56:57</td>\n",
       "      <td>Oh happy day, finally have a Canes near my cas...</td>\n",
       "    </tr>\n",
       "    <tr>\n",
       "      <th>5</th>\n",
       "      <td>5vD2kmE25YBrbayKhykNxQ</td>\n",
       "      <td>nlxHRv1zXGT0c0K51q3jDg</td>\n",
       "      <td>5.0</td>\n",
       "      <td>2013-05-07 07:25:25</td>\n",
       "      <td>This is definitely my favorite fast food sub s...</td>\n",
       "    </tr>\n",
       "  </tbody>\n",
       "</table>\n",
       "</div>"
      ],
      "text/plain": [
       "                  user_id             business_id  rating  \\\n",
       "1  nIJD_7ZXHq-FX8byPMOkMQ  lbrU8StCq3yDfr-QMnGrmQ     1.0   \n",
       "2  V34qejxNsCbcgD8C0HVk-Q  HQl28KMwrEKHqhFrrDqVNQ     5.0   \n",
       "3  ofKDkJKXSKZXu5xJNGiiBQ  5JxlZaqCnk1MnbgRirs40Q     1.0   \n",
       "4  UgMW8bLE0QMJDCkQ1Ax5Mg  IS4cv902ykd8wj1TR0N3-A     4.0   \n",
       "5  5vD2kmE25YBrbayKhykNxQ  nlxHRv1zXGT0c0K51q3jDg     5.0   \n",
       "\n",
       "                  date                                               text  \n",
       "1  2013-12-07 03:16:52  I am actually horrified this place is still in...  \n",
       "2  2015-12-05 03:18:11  I love Deagan's. I do. I really do. The atmosp...  \n",
       "3  2011-05-27 05:30:52  Dismal, lukewarm, defrosted-tasting \"TexMex\" g...  \n",
       "4  2017-01-14 21:56:57  Oh happy day, finally have a Canes near my cas...  \n",
       "5  2013-05-07 07:25:25  This is definitely my favorite fast food sub s...  "
      ]
     },
     "execution_count": 4,
     "metadata": {},
     "output_type": "execute_result"
    }
   ],
   "source": [
    "ratings_.head()"
   ]
  },
  {
   "cell_type": "code",
   "execution_count": 5,
   "metadata": {},
   "outputs": [
    {
     "name": "stdout",
     "output_type": "stream",
     "text": [
      "Unique Users: 343872, unique restaurants: 202565\n"
     ]
    }
   ],
   "source": [
    "n_users = len(ratings_.user_id.unique())\n",
    "n_restaurants = len(ratings_.business_id.unique())\n",
    "print('Unique Users: {0}, unique restaurants: {1}'.format(n_users, n_restaurants))"
   ]
  },
  {
   "cell_type": "code",
   "execution_count": 6,
   "metadata": {},
   "outputs": [
    {
     "name": "stderr",
     "output_type": "stream",
     "text": [
      "100%|██████████| 1968703/1968703 [00:48<00:00, 40671.77it/s] \n"
     ]
    }
   ],
   "source": [
    "# load user.json\n",
    "line_count = len(open(\"yelp_academic_dataset_user.json\").readlines())\n",
    "users, names, review_counts, since, friends, useful, \\\n",
    "            funny, cool, n_fans, years_elite, average_stars = [], [], [], [], [], [], [], [], [], [], []\n",
    "with open(\"yelp_academic_dataset_user.json\") as f:\n",
    "    for line in tqdm(f, total=line_count):\n",
    "        blob = json.loads(line)\n",
    "        users += [blob[\"user_id\"]]\n",
    "        names += [blob[\"name\"]]\n",
    "        review_counts += [blob[\"review_count\"]]\n",
    "        since += [blob[\"yelping_since\"]]\n",
    "        friends += [blob[\"friends\"]]\n",
    "        useful += [blob[\"useful\"]]\n",
    "        funny += [blob[\"funny\"]]\n",
    "        cool += [blob[\"cool\"]]\n",
    "        n_fans += [blob[\"fans\"]]\n",
    "        years_elite += [blob[\"elite\"]]\n",
    "        average_stars += [blob[\"average_stars\"]]\n",
    "        \n",
    "users_ = pd.DataFrame(\n",
    "    {\"user_id\": users, \n",
    "     \"user_name\": names,\n",
    "     \"user_review_count\": review_counts,\n",
    "     \"user_yelp_since\": since,\n",
    "     \"friends\": friends,\n",
    "     \"useful_reviews\": useful,\n",
    "     \"funny_reviews\": funny,\n",
    "     \"cool_reviews\": cool,\n",
    "     \"n_fans\": n_fans,\n",
    "     \"years_elite\": years_elite,\n",
    "     \"average_stars\": average_stars\n",
    "    }\n",
    ")"
   ]
  },
  {
   "cell_type": "code",
   "execution_count": 7,
   "metadata": {},
   "outputs": [
    {
     "name": "stderr",
     "output_type": "stream",
     "text": [
      "100%|██████████| 209393/209393 [00:02<00:00, 97367.49it/s]\n"
     ]
    }
   ],
   "source": [
    "# load business.json\n",
    "line_count = len(open(\"yelp_academic_dataset_business.json\").readlines())\n",
    "business_ids, names, addresses, cities, states, latitudes, longitudes, stars, \\\n",
    "        review_counts, is_open, categories = [], [], [], [], [], [], [], [], [], [], []\n",
    "with open(\"yelp_academic_dataset_business.json\") as f:\n",
    "    for line in tqdm(f, total=line_count):\n",
    "        blob = json.loads(line)\n",
    "        business_ids += [blob[\"business_id\"]]\n",
    "        names += [blob[\"name\"]]\n",
    "        addresses += [blob[\"address\"]]\n",
    "        cities += [blob[\"city\"]]\n",
    "        states += [blob[\"state\"]]\n",
    "        latitudes += [blob[\"latitude\"]]\n",
    "        longitudes += [blob[\"longitude\"]]\n",
    "        stars += [blob[\"stars\"]]\n",
    "        review_counts += [blob[\"review_count\"]]\n",
    "        is_open += [blob[\"is_open\"]]\n",
    "        categories += [blob[\"categories\"]]\n",
    "        \n",
    "business_ = pd.DataFrame(\n",
    "    {\"business_id\": business_ids, \n",
    "     \"business_name\": names,\n",
    "     \"business_address\": addresses,\n",
    "     \"business_city\": cities, \n",
    "     \"business_state\": states, \n",
    "     \"business_latitude\": latitudes, \n",
    "     \"business_longitude\": longitudes, \n",
    "     \"stars\": stars, \n",
    "     \"review_counts\": review_counts, \n",
    "     \"is_open\": is_open,\n",
    "     \"categories\": categories}\n",
    ")"
   ]
  },
  {
   "cell_type": "code",
   "execution_count": 8,
   "metadata": {},
   "outputs": [],
   "source": [
    "# only active users with [reviews > 5]\n",
    "users_ = users_.loc[users_.user_id.isin(active_users)]"
   ]
  },
  {
   "cell_type": "code",
   "execution_count": 9,
   "metadata": {},
   "outputs": [
    {
     "data": {
      "text/html": [
       "<div>\n",
       "<style scoped>\n",
       "    .dataframe tbody tr th:only-of-type {\n",
       "        vertical-align: middle;\n",
       "    }\n",
       "\n",
       "    .dataframe tbody tr th {\n",
       "        vertical-align: top;\n",
       "    }\n",
       "\n",
       "    .dataframe thead th {\n",
       "        text-align: right;\n",
       "    }\n",
       "</style>\n",
       "<table border=\"1\" class=\"dataframe\">\n",
       "  <thead>\n",
       "    <tr style=\"text-align: right;\">\n",
       "      <th></th>\n",
       "      <th>user_id</th>\n",
       "      <th>user_name</th>\n",
       "      <th>user_review_count</th>\n",
       "      <th>user_yelp_since</th>\n",
       "      <th>friends</th>\n",
       "      <th>useful_reviews</th>\n",
       "      <th>funny_reviews</th>\n",
       "      <th>cool_reviews</th>\n",
       "      <th>n_fans</th>\n",
       "      <th>years_elite</th>\n",
       "      <th>average_stars</th>\n",
       "    </tr>\n",
       "  </thead>\n",
       "  <tbody>\n",
       "    <tr>\n",
       "      <th>0</th>\n",
       "      <td>ntlvfPzc8eglqvk92iDIAw</td>\n",
       "      <td>Rafael</td>\n",
       "      <td>553</td>\n",
       "      <td>2007-07-06 03:27:11</td>\n",
       "      <td>oeMvJh94PiGQnx_6GlndPQ, wm1z1PaJKvHgSDRKfwhfDg...</td>\n",
       "      <td>628</td>\n",
       "      <td>225</td>\n",
       "      <td>227</td>\n",
       "      <td>14</td>\n",
       "      <td></td>\n",
       "      <td>3.57</td>\n",
       "    </tr>\n",
       "    <tr>\n",
       "      <th>1</th>\n",
       "      <td>FOBRPlBHa3WPHFB5qYDlVg</td>\n",
       "      <td>Michelle</td>\n",
       "      <td>564</td>\n",
       "      <td>2008-04-28 01:29:25</td>\n",
       "      <td>ly7EnE8leJmyqyePVYFlug, pRlR63iDytsnnniPb3AOug...</td>\n",
       "      <td>790</td>\n",
       "      <td>316</td>\n",
       "      <td>400</td>\n",
       "      <td>27</td>\n",
       "      <td>2008,2009,2010,2011,2012,2013</td>\n",
       "      <td>3.84</td>\n",
       "    </tr>\n",
       "    <tr>\n",
       "      <th>3</th>\n",
       "      <td>QaELAmRcDc5TfJEylaaP8g</td>\n",
       "      <td>John</td>\n",
       "      <td>206</td>\n",
       "      <td>2008-09-20 00:08:14</td>\n",
       "      <td>iog3Nyg1i4jeumiTVG_BSA, M92xWY2Vr9w0xoH8bPplfQ...</td>\n",
       "      <td>233</td>\n",
       "      <td>160</td>\n",
       "      <td>84</td>\n",
       "      <td>6</td>\n",
       "      <td>2009</td>\n",
       "      <td>3.08</td>\n",
       "    </tr>\n",
       "    <tr>\n",
       "      <th>5</th>\n",
       "      <td>z5_82komKV3mI4ASGe2-FQ</td>\n",
       "      <td>Steve</td>\n",
       "      <td>186</td>\n",
       "      <td>2007-02-27 07:09:40</td>\n",
       "      <td>E-fXXmALnZTPmzzL6rV4cQ, L2g6vS1GDfqLEpiDOFfCkA...</td>\n",
       "      <td>642</td>\n",
       "      <td>192</td>\n",
       "      <td>155</td>\n",
       "      <td>15</td>\n",
       "      <td>2007</td>\n",
       "      <td>2.88</td>\n",
       "    </tr>\n",
       "    <tr>\n",
       "      <th>7</th>\n",
       "      <td>f4_MRNHvN-yRn7EA8YWRxg</td>\n",
       "      <td>Jennifer</td>\n",
       "      <td>822</td>\n",
       "      <td>2011-01-17 00:18:23</td>\n",
       "      <td>c-Dja5bexzEWBufNsHfRrQ, 02HJNyOzzYXvEKVApJb8GQ...</td>\n",
       "      <td>4127</td>\n",
       "      <td>2446</td>\n",
       "      <td>2878</td>\n",
       "      <td>137</td>\n",
       "      <td>2011,2012,2013,2014,2015,2016,2017,2018</td>\n",
       "      <td>3.63</td>\n",
       "    </tr>\n",
       "  </tbody>\n",
       "</table>\n",
       "</div>"
      ],
      "text/plain": [
       "                  user_id user_name  user_review_count      user_yelp_since  \\\n",
       "0  ntlvfPzc8eglqvk92iDIAw    Rafael                553  2007-07-06 03:27:11   \n",
       "1  FOBRPlBHa3WPHFB5qYDlVg  Michelle                564  2008-04-28 01:29:25   \n",
       "3  QaELAmRcDc5TfJEylaaP8g      John                206  2008-09-20 00:08:14   \n",
       "5  z5_82komKV3mI4ASGe2-FQ     Steve                186  2007-02-27 07:09:40   \n",
       "7  f4_MRNHvN-yRn7EA8YWRxg  Jennifer                822  2011-01-17 00:18:23   \n",
       "\n",
       "                                             friends  useful_reviews  \\\n",
       "0  oeMvJh94PiGQnx_6GlndPQ, wm1z1PaJKvHgSDRKfwhfDg...             628   \n",
       "1  ly7EnE8leJmyqyePVYFlug, pRlR63iDytsnnniPb3AOug...             790   \n",
       "3  iog3Nyg1i4jeumiTVG_BSA, M92xWY2Vr9w0xoH8bPplfQ...             233   \n",
       "5  E-fXXmALnZTPmzzL6rV4cQ, L2g6vS1GDfqLEpiDOFfCkA...             642   \n",
       "7  c-Dja5bexzEWBufNsHfRrQ, 02HJNyOzzYXvEKVApJb8GQ...            4127   \n",
       "\n",
       "   funny_reviews  cool_reviews  n_fans  \\\n",
       "0            225           227      14   \n",
       "1            316           400      27   \n",
       "3            160            84       6   \n",
       "5            192           155      15   \n",
       "7           2446          2878     137   \n",
       "\n",
       "                               years_elite  average_stars  \n",
       "0                                                    3.57  \n",
       "1            2008,2009,2010,2011,2012,2013           3.84  \n",
       "3                                     2009           3.08  \n",
       "5                                     2007           2.88  \n",
       "7  2011,2012,2013,2014,2015,2016,2017,2018           3.63  "
      ]
     },
     "execution_count": 9,
     "metadata": {},
     "output_type": "execute_result"
    }
   ],
   "source": [
    "users_.head()"
   ]
  },
  {
   "cell_type": "code",
   "execution_count": 10,
   "metadata": {},
   "outputs": [
    {
     "data": {
      "text/html": [
       "<div>\n",
       "<style scoped>\n",
       "    .dataframe tbody tr th:only-of-type {\n",
       "        vertical-align: middle;\n",
       "    }\n",
       "\n",
       "    .dataframe tbody tr th {\n",
       "        vertical-align: top;\n",
       "    }\n",
       "\n",
       "    .dataframe thead th {\n",
       "        text-align: right;\n",
       "    }\n",
       "</style>\n",
       "<table border=\"1\" class=\"dataframe\">\n",
       "  <thead>\n",
       "    <tr style=\"text-align: right;\">\n",
       "      <th></th>\n",
       "      <th>business_id</th>\n",
       "      <th>business_name</th>\n",
       "      <th>business_address</th>\n",
       "      <th>business_city</th>\n",
       "      <th>business_state</th>\n",
       "      <th>business_latitude</th>\n",
       "      <th>business_longitude</th>\n",
       "      <th>stars</th>\n",
       "      <th>review_counts</th>\n",
       "      <th>is_open</th>\n",
       "      <th>categories</th>\n",
       "    </tr>\n",
       "  </thead>\n",
       "  <tbody>\n",
       "    <tr>\n",
       "      <th>0</th>\n",
       "      <td>f9NumwFMBDn751xgFiRbNA</td>\n",
       "      <td>The Range At Lake Norman</td>\n",
       "      <td>10913 Bailey Rd</td>\n",
       "      <td>Cornelius</td>\n",
       "      <td>NC</td>\n",
       "      <td>35.462724</td>\n",
       "      <td>-80.852612</td>\n",
       "      <td>3.5</td>\n",
       "      <td>36</td>\n",
       "      <td>1</td>\n",
       "      <td>Active Life, Gun/Rifle Ranges, Guns &amp; Ammo, Sh...</td>\n",
       "    </tr>\n",
       "    <tr>\n",
       "      <th>1</th>\n",
       "      <td>Yzvjg0SayhoZgCljUJRF9Q</td>\n",
       "      <td>Carlos Santo, NMD</td>\n",
       "      <td>8880 E Via Linda, Ste 107</td>\n",
       "      <td>Scottsdale</td>\n",
       "      <td>AZ</td>\n",
       "      <td>33.569404</td>\n",
       "      <td>-111.890264</td>\n",
       "      <td>5.0</td>\n",
       "      <td>4</td>\n",
       "      <td>1</td>\n",
       "      <td>Health &amp; Medical, Fitness &amp; Instruction, Yoga,...</td>\n",
       "    </tr>\n",
       "    <tr>\n",
       "      <th>2</th>\n",
       "      <td>XNoUzKckATkOD1hP6vghZg</td>\n",
       "      <td>Felinus</td>\n",
       "      <td>3554 Rue Notre-Dame O</td>\n",
       "      <td>Montreal</td>\n",
       "      <td>QC</td>\n",
       "      <td>45.479984</td>\n",
       "      <td>-73.580070</td>\n",
       "      <td>5.0</td>\n",
       "      <td>5</td>\n",
       "      <td>1</td>\n",
       "      <td>Pets, Pet Services, Pet Groomers</td>\n",
       "    </tr>\n",
       "    <tr>\n",
       "      <th>3</th>\n",
       "      <td>6OAZjbxqM5ol29BuHsil3w</td>\n",
       "      <td>Nevada House of Hose</td>\n",
       "      <td>1015 Sharp Cir</td>\n",
       "      <td>North Las Vegas</td>\n",
       "      <td>NV</td>\n",
       "      <td>36.219728</td>\n",
       "      <td>-115.127725</td>\n",
       "      <td>2.5</td>\n",
       "      <td>3</td>\n",
       "      <td>0</td>\n",
       "      <td>Hardware Stores, Home Services, Building Suppl...</td>\n",
       "    </tr>\n",
       "    <tr>\n",
       "      <th>4</th>\n",
       "      <td>51M2Kk903DFYI6gnB5I6SQ</td>\n",
       "      <td>USE MY GUY SERVICES LLC</td>\n",
       "      <td>4827 E Downing Cir</td>\n",
       "      <td>Mesa</td>\n",
       "      <td>AZ</td>\n",
       "      <td>33.428065</td>\n",
       "      <td>-111.726648</td>\n",
       "      <td>4.5</td>\n",
       "      <td>26</td>\n",
       "      <td>1</td>\n",
       "      <td>Home Services, Plumbing, Electricians, Handyma...</td>\n",
       "    </tr>\n",
       "  </tbody>\n",
       "</table>\n",
       "</div>"
      ],
      "text/plain": [
       "              business_id             business_name  \\\n",
       "0  f9NumwFMBDn751xgFiRbNA  The Range At Lake Norman   \n",
       "1  Yzvjg0SayhoZgCljUJRF9Q         Carlos Santo, NMD   \n",
       "2  XNoUzKckATkOD1hP6vghZg                   Felinus   \n",
       "3  6OAZjbxqM5ol29BuHsil3w      Nevada House of Hose   \n",
       "4  51M2Kk903DFYI6gnB5I6SQ   USE MY GUY SERVICES LLC   \n",
       "\n",
       "            business_address    business_city business_state  \\\n",
       "0            10913 Bailey Rd        Cornelius             NC   \n",
       "1  8880 E Via Linda, Ste 107       Scottsdale             AZ   \n",
       "2      3554 Rue Notre-Dame O         Montreal             QC   \n",
       "3             1015 Sharp Cir  North Las Vegas             NV   \n",
       "4         4827 E Downing Cir             Mesa             AZ   \n",
       "\n",
       "   business_latitude  business_longitude  stars  review_counts  is_open  \\\n",
       "0          35.462724          -80.852612    3.5             36        1   \n",
       "1          33.569404         -111.890264    5.0              4        1   \n",
       "2          45.479984          -73.580070    5.0              5        1   \n",
       "3          36.219728         -115.127725    2.5              3        0   \n",
       "4          33.428065         -111.726648    4.5             26        1   \n",
       "\n",
       "                                          categories  \n",
       "0  Active Life, Gun/Rifle Ranges, Guns & Ammo, Sh...  \n",
       "1  Health & Medical, Fitness & Instruction, Yoga,...  \n",
       "2                   Pets, Pet Services, Pet Groomers  \n",
       "3  Hardware Stores, Home Services, Building Suppl...  \n",
       "4  Home Services, Plumbing, Electricians, Handyma...  "
      ]
     },
     "execution_count": 10,
     "metadata": {},
     "output_type": "execute_result"
    }
   ],
   "source": [
    "business_.head()"
   ]
  },
  {
   "cell_type": "code",
   "execution_count": 11,
   "metadata": {},
   "outputs": [
    {
     "name": "stdout",
     "output_type": "stream",
     "text": [
      "343872\n",
      "68774\n",
      "1081887\n",
      "                  user_id             business_id  rating  \\\n",
      "0  jOERvhmK6_lo_XGUBPws_w  Ws8V970-mQt2X9CwCuT5zw     4.0   \n",
      "1  jOERvhmK6_lo_XGUBPws_w  BqnxN4hHahZ-zZGXDDGLsg     4.0   \n",
      "2  jOERvhmK6_lo_XGUBPws_w  tWiFat101ID5w_wgAPMXhA     3.0   \n",
      "3  jOERvhmK6_lo_XGUBPws_w  P8IsTiHq5Hesa6UPL604ww     4.0   \n",
      "4  jOERvhmK6_lo_XGUBPws_w  oi6mahpAmEuikfihFVDmCw     3.0   \n",
      "\n",
      "                  date                                               text  \n",
      "0  2009-10-13 04:16:41  I have been here twice. Very nice and laid bac...  \n",
      "1  2009-11-11 04:38:31  We had a lovely dinner at BLT Steak for my bir...  \n",
      "2  2009-09-10 04:38:08  *3.5 stars*\\nWent to Ted's today for lunch. I ...  \n",
      "3  2009-11-23 03:28:27  I don't know if Los Taquitos qualifies as a \"d...  \n",
      "4  2012-01-17 04:20:09  Good service, food was OK. I've tried the panc...  \n",
      "(1081887, 5)\n"
     ]
    }
   ],
   "source": [
    "# Train Test Split\n",
    "SAMPLING_RATE = 1/5\n",
    "\n",
    "# Downsample by users\n",
    "user_id_unique = ratings_.user_id.unique()\n",
    "print(str(len(user_id_unique)))\n",
    "\n",
    "user_id_sample = pd.DataFrame(user_id_unique, columns=['unique_user_id']) \\\n",
    "                    .sample(frac= SAMPLING_RATE, replace=False, random_state=1)\n",
    "print(str(len(user_id_sample)))\n",
    "ratings_sample = ratings_.merge(user_id_sample, left_on='user_id', right_on='unique_user_id') \\\n",
    "                    .drop(['unique_user_id'], axis=1)\n",
    "\n",
    "# The following line is not applicable as we need random data samples, for that we need merge\n",
    "# ratings_sample = ratings_.loc[ratings_.user_id.isin(user_id_sample)]\n",
    "\n",
    "print(str(len(ratings_sample)))\n",
    "print(ratings_sample.head())\n",
    "print(ratings_sample.shape)"
   ]
  },
  {
   "cell_type": "code",
   "execution_count": 12,
   "metadata": {},
   "outputs": [],
   "source": [
    "# hold out last review\n",
    "\n",
    "# convert into pandas datetime\n",
    "ratings_user_date = ratings_sample.loc[:, ['user_id', 'date']]\n",
    "ratings_user_date.date = pd.to_datetime(ratings_user_date.date)\n",
    "\n",
    "# Get the max date index value (most recent review)\n",
    "index_holdout = ratings_user_date.groupby(['user_id'], sort=False)['date'].transform(max) == ratings_user_date['date']\n",
    "\n",
    "# most recent review (Test set)\n",
    "ratings_holdout_ = ratings_sample[index_holdout]\n",
    "# All other reviews\n",
    "ratings_traincv_ = ratings_sample[~index_holdout]\n",
    "\n",
    "# Get the max date index value from 'ratings_traincv_' (2nd most recent review from original data)\n",
    "ratings_user_date = ratings_traincv_.loc[:, ['user_id', 'date']]\n",
    "index_holdout = ratings_user_date.groupby(['user_id'], sort=False)['date'].transform(max) == ratings_user_date['date']\n",
    "# 2nd most recent review (Validation set)\n",
    "ratings_cv_ = ratings_traincv_[index_holdout]\n",
    "# Remaining dataset for Trainig\n",
    "ratings_train_ = ratings_traincv_[~index_holdout]"
   ]
  },
  {
   "cell_type": "code",
   "execution_count": 13,
   "metadata": {},
   "outputs": [
    {
     "data": {
      "text/html": [
       "<div>\n",
       "<style scoped>\n",
       "    .dataframe tbody tr th:only-of-type {\n",
       "        vertical-align: middle;\n",
       "    }\n",
       "\n",
       "    .dataframe tbody tr th {\n",
       "        vertical-align: top;\n",
       "    }\n",
       "\n",
       "    .dataframe thead th {\n",
       "        text-align: right;\n",
       "    }\n",
       "</style>\n",
       "<table border=\"1\" class=\"dataframe\">\n",
       "  <thead>\n",
       "    <tr style=\"text-align: right;\">\n",
       "      <th></th>\n",
       "      <th>user_id</th>\n",
       "      <th>business_id</th>\n",
       "      <th>rating</th>\n",
       "      <th>date</th>\n",
       "      <th>text</th>\n",
       "    </tr>\n",
       "  </thead>\n",
       "  <tbody>\n",
       "    <tr>\n",
       "      <th>0</th>\n",
       "      <td>jOERvhmK6_lo_XGUBPws_w</td>\n",
       "      <td>Ws8V970-mQt2X9CwCuT5zw</td>\n",
       "      <td>4.0</td>\n",
       "      <td>2009-10-13 04:16:41</td>\n",
       "      <td>I have been here twice. Very nice and laid bac...</td>\n",
       "    </tr>\n",
       "    <tr>\n",
       "      <th>1</th>\n",
       "      <td>jOERvhmK6_lo_XGUBPws_w</td>\n",
       "      <td>BqnxN4hHahZ-zZGXDDGLsg</td>\n",
       "      <td>4.0</td>\n",
       "      <td>2009-11-11 04:38:31</td>\n",
       "      <td>We had a lovely dinner at BLT Steak for my bir...</td>\n",
       "    </tr>\n",
       "    <tr>\n",
       "      <th>2</th>\n",
       "      <td>jOERvhmK6_lo_XGUBPws_w</td>\n",
       "      <td>tWiFat101ID5w_wgAPMXhA</td>\n",
       "      <td>3.0</td>\n",
       "      <td>2009-09-10 04:38:08</td>\n",
       "      <td>*3.5 stars*\\nWent to Ted's today for lunch. I ...</td>\n",
       "    </tr>\n",
       "    <tr>\n",
       "      <th>3</th>\n",
       "      <td>jOERvhmK6_lo_XGUBPws_w</td>\n",
       "      <td>P8IsTiHq5Hesa6UPL604ww</td>\n",
       "      <td>4.0</td>\n",
       "      <td>2009-11-23 03:28:27</td>\n",
       "      <td>I don't know if Los Taquitos qualifies as a \"d...</td>\n",
       "    </tr>\n",
       "    <tr>\n",
       "      <th>4</th>\n",
       "      <td>jOERvhmK6_lo_XGUBPws_w</td>\n",
       "      <td>oi6mahpAmEuikfihFVDmCw</td>\n",
       "      <td>3.0</td>\n",
       "      <td>2012-01-17 04:20:09</td>\n",
       "      <td>Good service, food was OK. I've tried the panc...</td>\n",
       "    </tr>\n",
       "  </tbody>\n",
       "</table>\n",
       "</div>"
      ],
      "text/plain": [
       "                  user_id             business_id  rating  \\\n",
       "0  jOERvhmK6_lo_XGUBPws_w  Ws8V970-mQt2X9CwCuT5zw     4.0   \n",
       "1  jOERvhmK6_lo_XGUBPws_w  BqnxN4hHahZ-zZGXDDGLsg     4.0   \n",
       "2  jOERvhmK6_lo_XGUBPws_w  tWiFat101ID5w_wgAPMXhA     3.0   \n",
       "3  jOERvhmK6_lo_XGUBPws_w  P8IsTiHq5Hesa6UPL604ww     4.0   \n",
       "4  jOERvhmK6_lo_XGUBPws_w  oi6mahpAmEuikfihFVDmCw     3.0   \n",
       "\n",
       "                  date                                               text  \n",
       "0  2009-10-13 04:16:41  I have been here twice. Very nice and laid bac...  \n",
       "1  2009-11-11 04:38:31  We had a lovely dinner at BLT Steak for my bir...  \n",
       "2  2009-09-10 04:38:08  *3.5 stars*\\nWent to Ted's today for lunch. I ...  \n",
       "3  2009-11-23 03:28:27  I don't know if Los Taquitos qualifies as a \"d...  \n",
       "4  2012-01-17 04:20:09  Good service, food was OK. I've tried the panc...  "
      ]
     },
     "execution_count": 13,
     "metadata": {},
     "output_type": "execute_result"
    }
   ],
   "source": [
    "ratings_train_.head()"
   ]
  },
  {
   "cell_type": "code",
   "execution_count": 14,
   "metadata": {},
   "outputs": [
    {
     "name": "stdout",
     "output_type": "stream",
     "text": [
      "There are 944323 rows, 5 columns in training set.\n",
      "There are 68779 rows, 5 columns in validation set.\n",
      "There are 68774 rows, 5 columns in holdout set.\n"
     ]
    }
   ],
   "source": [
    "# remove the user that has fake reviews\n",
    "\n",
    "# remove rating records of Validation and Testing dataset from Training dataset.\n",
    "# Delete Testing dataset from Training dataset.\n",
    "holdout_users_del = set(ratings_holdout_.user_id) - set(ratings_train_.user_id)\n",
    "ratings_holdout_ = ratings_holdout_[~ratings_holdout_.user_id.isin(holdout_users_del)]\n",
    "# Delete Validation dataset from Training dataset.\n",
    "cv_users_del = set(ratings_cv_.user_id) - set(ratings_train_.user_id)\n",
    "ratings_cv_ = ratings_cv_[~ratings_cv_.user_id.isin(cv_users_del)]\n",
    "\n",
    "# ratings_cv_ = ratings_cv_[~ratings_cv_.user_id.isin(['HiT9sg9pvDiEVMFHJYihXg'])]\n",
    "# ratings_holdout_ = ratings_holdout_[~ratings_holdout_.user_id.isin(['HiT9sg9pvDiEVMFHJYihXg'])]\n",
    "\n",
    "print('There are {0} rows, {1} columns in training set.'.format(ratings_train_.shape[0], ratings_train_.shape[1]))\n",
    "print('There are {0} rows, {1} columns in validation set.'.format(ratings_cv_.shape[0], ratings_cv_.shape[1]))\n",
    "print('There are {0} rows, {1} columns in holdout set.'.format(ratings_holdout_.shape[0], ratings_holdout_.shape[1]))"
   ]
  },
  {
   "cell_type": "code",
   "execution_count": 15,
   "metadata": {},
   "outputs": [
    {
     "name": "stdout",
     "output_type": "stream",
     "text": [
      "68772\n"
     ]
    }
   ],
   "source": [
    "# check if we have a enough user sample size (> 50000)\n",
    "number_of_unique_users = len(ratings_train_.user_id.unique())\n",
    "print(number_of_unique_users)"
   ]
  },
  {
   "cell_type": "code",
   "execution_count": 16,
   "metadata": {},
   "outputs": [
    {
     "name": "stdout",
     "output_type": "stream",
     "text": [
      "944323\n",
      "68774\n",
      "68779\n"
     ]
    }
   ],
   "source": [
    "def process(df):\n",
    "    # convert to pandas datetime format\n",
    "    df['date']  = pd.to_datetime(df['date'])\n",
    "    df['week_day'] = df['date'].dt.weekday\n",
    "    df['month'] = df['date'].dt.month\n",
    "    df['hour'] = df['date'].dt.hour\n",
    "    df = df.merge(users_, on = 'user_id')\n",
    "    df = df.merge(business_, on = 'business_id')\n",
    "    rename_dict = {'business_longitude': 'longitude', 'business_latitude': 'latitude',\n",
    "                  'business_state':'state','business_city':'city', 'business_address': 'address'}\n",
    "    df = df.rename(columns = rename_dict)\n",
    "    return df\n",
    "\n",
    "ratings_train = process(ratings_train_.copy())\n",
    "ratings_holdout = process(ratings_holdout_.copy())\n",
    "ratings_val = process(ratings_cv_.copy())\n",
    "print(str(len(ratings_train)))\n",
    "print(str(len(ratings_holdout)))\n",
    "print(str(len(ratings_val)))"
   ]
  },
  {
   "cell_type": "code",
   "execution_count": 17,
   "metadata": {},
   "outputs": [
    {
     "data": {
      "text/html": [
       "<div>\n",
       "<style scoped>\n",
       "    .dataframe tbody tr th:only-of-type {\n",
       "        vertical-align: middle;\n",
       "    }\n",
       "\n",
       "    .dataframe tbody tr th {\n",
       "        vertical-align: top;\n",
       "    }\n",
       "\n",
       "    .dataframe thead th {\n",
       "        text-align: right;\n",
       "    }\n",
       "</style>\n",
       "<table border=\"1\" class=\"dataframe\">\n",
       "  <thead>\n",
       "    <tr style=\"text-align: right;\">\n",
       "      <th></th>\n",
       "      <th>user_id</th>\n",
       "      <th>business_id</th>\n",
       "      <th>rating</th>\n",
       "      <th>date</th>\n",
       "      <th>text</th>\n",
       "      <th>week_day</th>\n",
       "      <th>month</th>\n",
       "      <th>hour</th>\n",
       "      <th>user_name</th>\n",
       "      <th>user_review_count</th>\n",
       "      <th>...</th>\n",
       "      <th>business_name</th>\n",
       "      <th>address</th>\n",
       "      <th>city</th>\n",
       "      <th>state</th>\n",
       "      <th>latitude</th>\n",
       "      <th>longitude</th>\n",
       "      <th>stars</th>\n",
       "      <th>review_counts</th>\n",
       "      <th>is_open</th>\n",
       "      <th>categories</th>\n",
       "    </tr>\n",
       "  </thead>\n",
       "  <tbody>\n",
       "    <tr>\n",
       "      <th>0</th>\n",
       "      <td>jOERvhmK6_lo_XGUBPws_w</td>\n",
       "      <td>bc4-cwjfQaCSDu3nh66Rkg</td>\n",
       "      <td>2.0</td>\n",
       "      <td>2019-08-18 01:14:05</td>\n",
       "      <td>Beautiful, full of light store. The employees ...</td>\n",
       "      <td>6</td>\n",
       "      <td>8</td>\n",
       "      <td>1</td>\n",
       "      <td>Yazmin</td>\n",
       "      <td>112</td>\n",
       "      <td>...</td>\n",
       "      <td>L'Occitane</td>\n",
       "      <td>7014 E Camelback Rd</td>\n",
       "      <td>Scottsdale</td>\n",
       "      <td>AZ</td>\n",
       "      <td>33.503904</td>\n",
       "      <td>-111.930352</td>\n",
       "      <td>3.5</td>\n",
       "      <td>10</td>\n",
       "      <td>1</td>\n",
       "      <td>Beauty &amp; Spas, Shopping, Cosmetics &amp; Beauty Su...</td>\n",
       "    </tr>\n",
       "    <tr>\n",
       "      <th>1</th>\n",
       "      <td>4Jrv4wVyqBwNhKITSQDORg</td>\n",
       "      <td>bc4-cwjfQaCSDu3nh66Rkg</td>\n",
       "      <td>2.0</td>\n",
       "      <td>2019-09-20 07:13:33</td>\n",
       "      <td>My relationship with nearly everything L'Occit...</td>\n",
       "      <td>4</td>\n",
       "      <td>9</td>\n",
       "      <td>7</td>\n",
       "      <td>Melissa</td>\n",
       "      <td>18</td>\n",
       "      <td>...</td>\n",
       "      <td>L'Occitane</td>\n",
       "      <td>7014 E Camelback Rd</td>\n",
       "      <td>Scottsdale</td>\n",
       "      <td>AZ</td>\n",
       "      <td>33.503904</td>\n",
       "      <td>-111.930352</td>\n",
       "      <td>3.5</td>\n",
       "      <td>10</td>\n",
       "      <td>1</td>\n",
       "      <td>Beauty &amp; Spas, Shopping, Cosmetics &amp; Beauty Su...</td>\n",
       "    </tr>\n",
       "    <tr>\n",
       "      <th>2</th>\n",
       "      <td>HJECayULRM-6xh2GCCvLiA</td>\n",
       "      <td>d4qwVw4PcN-_2mK2o1Ro1g</td>\n",
       "      <td>5.0</td>\n",
       "      <td>2019-10-12 01:49:46</td>\n",
       "      <td>Really great Mexican fare here. Very busy plac...</td>\n",
       "      <td>5</td>\n",
       "      <td>10</td>\n",
       "      <td>1</td>\n",
       "      <td>Tim</td>\n",
       "      <td>314</td>\n",
       "      <td>...</td>\n",
       "      <td>Pink Taco</td>\n",
       "      <td>4455 Paradise Rd</td>\n",
       "      <td>Las Vegas</td>\n",
       "      <td>NV</td>\n",
       "      <td>36.109706</td>\n",
       "      <td>-115.154021</td>\n",
       "      <td>3.5</td>\n",
       "      <td>1120</td>\n",
       "      <td>1</td>\n",
       "      <td>Mexican, Restaurants</td>\n",
       "    </tr>\n",
       "    <tr>\n",
       "      <th>3</th>\n",
       "      <td>P_peDwsQ0bqCzqlqb0D_vA</td>\n",
       "      <td>d4qwVw4PcN-_2mK2o1Ro1g</td>\n",
       "      <td>4.0</td>\n",
       "      <td>2018-01-20 12:07:29</td>\n",
       "      <td>We had lunch here this weekend, overall a dece...</td>\n",
       "      <td>5</td>\n",
       "      <td>1</td>\n",
       "      <td>12</td>\n",
       "      <td>Bradley</td>\n",
       "      <td>232</td>\n",
       "      <td>...</td>\n",
       "      <td>Pink Taco</td>\n",
       "      <td>4455 Paradise Rd</td>\n",
       "      <td>Las Vegas</td>\n",
       "      <td>NV</td>\n",
       "      <td>36.109706</td>\n",
       "      <td>-115.154021</td>\n",
       "      <td>3.5</td>\n",
       "      <td>1120</td>\n",
       "      <td>1</td>\n",
       "      <td>Mexican, Restaurants</td>\n",
       "    </tr>\n",
       "    <tr>\n",
       "      <th>4</th>\n",
       "      <td>WUvv4rFy_Z4SAXsBKR2jng</td>\n",
       "      <td>d4qwVw4PcN-_2mK2o1Ro1g</td>\n",
       "      <td>3.0</td>\n",
       "      <td>2013-02-06 06:55:12</td>\n",
       "      <td>The oh so famous Pink Taco.\\n\\nCame here for S...</td>\n",
       "      <td>2</td>\n",
       "      <td>2</td>\n",
       "      <td>6</td>\n",
       "      <td>Rachel</td>\n",
       "      <td>312</td>\n",
       "      <td>...</td>\n",
       "      <td>Pink Taco</td>\n",
       "      <td>4455 Paradise Rd</td>\n",
       "      <td>Las Vegas</td>\n",
       "      <td>NV</td>\n",
       "      <td>36.109706</td>\n",
       "      <td>-115.154021</td>\n",
       "      <td>3.5</td>\n",
       "      <td>1120</td>\n",
       "      <td>1</td>\n",
       "      <td>Mexican, Restaurants</td>\n",
       "    </tr>\n",
       "  </tbody>\n",
       "</table>\n",
       "<p>5 rows × 28 columns</p>\n",
       "</div>"
      ],
      "text/plain": [
       "                  user_id             business_id  rating                date  \\\n",
       "0  jOERvhmK6_lo_XGUBPws_w  bc4-cwjfQaCSDu3nh66Rkg     2.0 2019-08-18 01:14:05   \n",
       "1  4Jrv4wVyqBwNhKITSQDORg  bc4-cwjfQaCSDu3nh66Rkg     2.0 2019-09-20 07:13:33   \n",
       "2  HJECayULRM-6xh2GCCvLiA  d4qwVw4PcN-_2mK2o1Ro1g     5.0 2019-10-12 01:49:46   \n",
       "3  P_peDwsQ0bqCzqlqb0D_vA  d4qwVw4PcN-_2mK2o1Ro1g     4.0 2018-01-20 12:07:29   \n",
       "4  WUvv4rFy_Z4SAXsBKR2jng  d4qwVw4PcN-_2mK2o1Ro1g     3.0 2013-02-06 06:55:12   \n",
       "\n",
       "                                                text  week_day  month  hour  \\\n",
       "0  Beautiful, full of light store. The employees ...         6      8     1   \n",
       "1  My relationship with nearly everything L'Occit...         4      9     7   \n",
       "2  Really great Mexican fare here. Very busy plac...         5     10     1   \n",
       "3  We had lunch here this weekend, overall a dece...         5      1    12   \n",
       "4  The oh so famous Pink Taco.\\n\\nCame here for S...         2      2     6   \n",
       "\n",
       "  user_name  user_review_count  ... business_name              address  \\\n",
       "0    Yazmin                112  ...    L'Occitane  7014 E Camelback Rd   \n",
       "1   Melissa                 18  ...    L'Occitane  7014 E Camelback Rd   \n",
       "2       Tim                314  ...     Pink Taco     4455 Paradise Rd   \n",
       "3   Bradley                232  ...     Pink Taco     4455 Paradise Rd   \n",
       "4    Rachel                312  ...     Pink Taco     4455 Paradise Rd   \n",
       "\n",
       "         city  state   latitude   longitude stars  review_counts is_open  \\\n",
       "0  Scottsdale     AZ  33.503904 -111.930352   3.5             10       1   \n",
       "1  Scottsdale     AZ  33.503904 -111.930352   3.5             10       1   \n",
       "2   Las Vegas     NV  36.109706 -115.154021   3.5           1120       1   \n",
       "3   Las Vegas     NV  36.109706 -115.154021   3.5           1120       1   \n",
       "4   Las Vegas     NV  36.109706 -115.154021   3.5           1120       1   \n",
       "\n",
       "                                          categories  \n",
       "0  Beauty & Spas, Shopping, Cosmetics & Beauty Su...  \n",
       "1  Beauty & Spas, Shopping, Cosmetics & Beauty Su...  \n",
       "2                               Mexican, Restaurants  \n",
       "3                               Mexican, Restaurants  \n",
       "4                               Mexican, Restaurants  \n",
       "\n",
       "[5 rows x 28 columns]"
      ]
     },
     "execution_count": 17,
     "metadata": {},
     "output_type": "execute_result"
    }
   ],
   "source": [
    "ratings_holdout.columns\n",
    "ratings_holdout.head()"
   ]
  },
  {
   "cell_type": "code",
   "execution_count": 18,
   "metadata": {},
   "outputs": [],
   "source": [
    "# final data for training and validation\n",
    "ratings_train_final = ratings_train.append(ratings_val)\n",
    "# entire dataset for training, validation and testing\n",
    "ratings_entire_df = ratings_train.append(ratings_val).append(ratings_holdout)"
   ]
  },
  {
   "cell_type": "code",
   "execution_count": 19,
   "metadata": {},
   "outputs": [
    {
     "name": "stdout",
     "output_type": "stream",
     "text": [
      "1081876\n"
     ]
    },
    {
     "data": {
      "text/plain": [
       "Index(['user_id', 'business_id', 'rating', 'date', 'text', 'week_day', 'month',\n",
       "       'hour', 'user_name', 'user_review_count', 'user_yelp_since', 'friends',\n",
       "       'useful_reviews', 'funny_reviews', 'cool_reviews', 'n_fans',\n",
       "       'years_elite', 'average_stars', 'business_name', 'address', 'city',\n",
       "       'state', 'latitude', 'longitude', 'stars', 'review_counts', 'is_open',\n",
       "       'categories'],\n",
       "      dtype='object')"
      ]
     },
     "execution_count": 19,
     "metadata": {},
     "output_type": "execute_result"
    }
   ],
   "source": [
    "print(str(len(ratings_entire_df)))\n",
    "ratings_entire_df.columns"
   ]
  },
  {
   "cell_type": "code",
   "execution_count": 20,
   "metadata": {},
   "outputs": [
    {
     "name": "stdout",
     "output_type": "stream",
     "text": [
      "944\n",
      "95\n"
     ]
    },
    {
     "data": {
      "text/html": [
       "<div>\n",
       "<style scoped>\n",
       "    .dataframe tbody tr th:only-of-type {\n",
       "        vertical-align: middle;\n",
       "    }\n",
       "\n",
       "    .dataframe tbody tr th {\n",
       "        vertical-align: top;\n",
       "    }\n",
       "\n",
       "    .dataframe thead th {\n",
       "        text-align: right;\n",
       "    }\n",
       "</style>\n",
       "<table border=\"1\" class=\"dataframe\">\n",
       "  <thead>\n",
       "    <tr style=\"text-align: right;\">\n",
       "      <th></th>\n",
       "      <th>user_id</th>\n",
       "      <th>business_id</th>\n",
       "      <th>rating</th>\n",
       "      <th>date</th>\n",
       "      <th>text</th>\n",
       "      <th>week_day</th>\n",
       "      <th>month</th>\n",
       "      <th>hour</th>\n",
       "      <th>user_name</th>\n",
       "      <th>user_review_count</th>\n",
       "      <th>...</th>\n",
       "      <th>business_name</th>\n",
       "      <th>address</th>\n",
       "      <th>city</th>\n",
       "      <th>state</th>\n",
       "      <th>latitude</th>\n",
       "      <th>longitude</th>\n",
       "      <th>stars</th>\n",
       "      <th>review_counts</th>\n",
       "      <th>is_open</th>\n",
       "      <th>categories</th>\n",
       "    </tr>\n",
       "  </thead>\n",
       "  <tbody>\n",
       "    <tr>\n",
       "      <th>26421</th>\n",
       "      <td>Oo7RsFJFOxlkHDp-K5atBA</td>\n",
       "      <td>sSWy-yEYPCHLss0LvmAhhA</td>\n",
       "      <td>4.0</td>\n",
       "      <td>2019-04-30 16:14:26</td>\n",
       "      <td>After my doctors appointment today I wanted so...</td>\n",
       "      <td>1</td>\n",
       "      <td>4</td>\n",
       "      <td>16</td>\n",
       "      <td>Kathy</td>\n",
       "      <td>22</td>\n",
       "      <td>...</td>\n",
       "      <td>Eggs Crepes Restaurant</td>\n",
       "      <td>250 Bayly Street W</td>\n",
       "      <td>Ajax</td>\n",
       "      <td>ON</td>\n",
       "      <td>43.842562</td>\n",
       "      <td>-79.027714</td>\n",
       "      <td>3.0</td>\n",
       "      <td>7</td>\n",
       "      <td>1</td>\n",
       "      <td>Breakfast &amp; Brunch, Restaurants, Creperies</td>\n",
       "    </tr>\n",
       "    <tr>\n",
       "      <th>32748</th>\n",
       "      <td>Py2i0EJa7U7AYk4AUuKUAw</td>\n",
       "      <td>nx-7BYiMw878SWyBe5LDyA</td>\n",
       "      <td>4.0</td>\n",
       "      <td>2016-11-14 05:58:23</td>\n",
       "      <td>Had a Philly with poutine.  Sandwich was good....</td>\n",
       "      <td>0</td>\n",
       "      <td>11</td>\n",
       "      <td>5</td>\n",
       "      <td>Thomas</td>\n",
       "      <td>14</td>\n",
       "      <td>...</td>\n",
       "      <td>Retro Burger</td>\n",
       "      <td>105 Bayly Street W, Unit 18A</td>\n",
       "      <td>Ajax</td>\n",
       "      <td>ON</td>\n",
       "      <td>43.841955</td>\n",
       "      <td>-79.022369</td>\n",
       "      <td>4.0</td>\n",
       "      <td>36</td>\n",
       "      <td>1</td>\n",
       "      <td>Burgers, Restaurants</td>\n",
       "    </tr>\n",
       "    <tr>\n",
       "      <th>45659</th>\n",
       "      <td>Uly_rDkUppjM5jZ7mgUTfA</td>\n",
       "      <td>tD7_aIUTlfzyMoMkXXwiZA</td>\n",
       "      <td>5.0</td>\n",
       "      <td>2019-09-22 13:31:42</td>\n",
       "      <td>First, let me start by saying we should all su...</td>\n",
       "      <td>6</td>\n",
       "      <td>9</td>\n",
       "      <td>13</td>\n",
       "      <td>Sylvia</td>\n",
       "      <td>12</td>\n",
       "      <td>...</td>\n",
       "      <td>Pizza Pino</td>\n",
       "      <td>855 Westney Road S</td>\n",
       "      <td>Ajax</td>\n",
       "      <td>ON</td>\n",
       "      <td>43.830514</td>\n",
       "      <td>-79.020845</td>\n",
       "      <td>4.0</td>\n",
       "      <td>101</td>\n",
       "      <td>1</td>\n",
       "      <td>Restaurants, Pizza</td>\n",
       "    </tr>\n",
       "    <tr>\n",
       "      <th>68219</th>\n",
       "      <td>iNto93QzBCGL7Fv4U3pHkg</td>\n",
       "      <td>QTxHD_-F4ljM-MxV_wTnUA</td>\n",
       "      <td>4.0</td>\n",
       "      <td>2012-01-21 18:05:08</td>\n",
       "      <td>Great food! Not necessarily authentic, but ver...</td>\n",
       "      <td>5</td>\n",
       "      <td>1</td>\n",
       "      <td>18</td>\n",
       "      <td>Jeff</td>\n",
       "      <td>15</td>\n",
       "      <td>...</td>\n",
       "      <td>Mucho Burrito</td>\n",
       "      <td>320 Harwood Avenue S, Unit 2</td>\n",
       "      <td>Ajax</td>\n",
       "      <td>ON</td>\n",
       "      <td>43.844276</td>\n",
       "      <td>-79.018902</td>\n",
       "      <td>3.0</td>\n",
       "      <td>19</td>\n",
       "      <td>1</td>\n",
       "      <td>Mexican, Food, Restaurants</td>\n",
       "    </tr>\n",
       "    <tr>\n",
       "      <th>67255</th>\n",
       "      <td>lDBkjaiazlp2EEcGK85OIQ</td>\n",
       "      <td>diL2jw9aYVoR8HfZdYVg0g</td>\n",
       "      <td>5.0</td>\n",
       "      <td>2018-09-09 18:34:14</td>\n",
       "      <td>I've been twice now and have thoroughly enjoye...</td>\n",
       "      <td>6</td>\n",
       "      <td>9</td>\n",
       "      <td>18</td>\n",
       "      <td>Adam</td>\n",
       "      <td>7</td>\n",
       "      <td>...</td>\n",
       "      <td>Firehouse Subs</td>\n",
       "      <td>170 Kingston Road E</td>\n",
       "      <td>Ajax</td>\n",
       "      <td>ON</td>\n",
       "      <td>43.864600</td>\n",
       "      <td>-79.016959</td>\n",
       "      <td>4.5</td>\n",
       "      <td>23</td>\n",
       "      <td>1</td>\n",
       "      <td>Sandwiches, Restaurants, Salad, Fast Food, Delis</td>\n",
       "    </tr>\n",
       "  </tbody>\n",
       "</table>\n",
       "<p>5 rows × 28 columns</p>\n",
       "</div>"
      ],
      "text/plain": [
       "                      user_id             business_id  rating  \\\n",
       "26421  Oo7RsFJFOxlkHDp-K5atBA  sSWy-yEYPCHLss0LvmAhhA     4.0   \n",
       "32748  Py2i0EJa7U7AYk4AUuKUAw  nx-7BYiMw878SWyBe5LDyA     4.0   \n",
       "45659  Uly_rDkUppjM5jZ7mgUTfA  tD7_aIUTlfzyMoMkXXwiZA     5.0   \n",
       "68219  iNto93QzBCGL7Fv4U3pHkg  QTxHD_-F4ljM-MxV_wTnUA     4.0   \n",
       "67255  lDBkjaiazlp2EEcGK85OIQ  diL2jw9aYVoR8HfZdYVg0g     5.0   \n",
       "\n",
       "                     date                                               text  \\\n",
       "26421 2019-04-30 16:14:26  After my doctors appointment today I wanted so...   \n",
       "32748 2016-11-14 05:58:23  Had a Philly with poutine.  Sandwich was good....   \n",
       "45659 2019-09-22 13:31:42  First, let me start by saying we should all su...   \n",
       "68219 2012-01-21 18:05:08  Great food! Not necessarily authentic, but ver...   \n",
       "67255 2018-09-09 18:34:14  I've been twice now and have thoroughly enjoye...   \n",
       "\n",
       "       week_day  month  hour user_name  user_review_count  ...  \\\n",
       "26421         1      4    16     Kathy                 22  ...   \n",
       "32748         0     11     5    Thomas                 14  ...   \n",
       "45659         6      9    13    Sylvia                 12  ...   \n",
       "68219         5      1    18      Jeff                 15  ...   \n",
       "67255         6      9    18      Adam                  7  ...   \n",
       "\n",
       "                business_name                       address  city  state  \\\n",
       "26421  Eggs Crepes Restaurant            250 Bayly Street W  Ajax     ON   \n",
       "32748            Retro Burger  105 Bayly Street W, Unit 18A  Ajax     ON   \n",
       "45659              Pizza Pino            855 Westney Road S  Ajax     ON   \n",
       "68219           Mucho Burrito  320 Harwood Avenue S, Unit 2  Ajax     ON   \n",
       "67255          Firehouse Subs           170 Kingston Road E  Ajax     ON   \n",
       "\n",
       "        latitude  longitude stars  review_counts is_open  \\\n",
       "26421  43.842562 -79.027714   3.0              7       1   \n",
       "32748  43.841955 -79.022369   4.0             36       1   \n",
       "45659  43.830514 -79.020845   4.0            101       1   \n",
       "68219  43.844276 -79.018902   3.0             19       1   \n",
       "67255  43.864600 -79.016959   4.5             23       1   \n",
       "\n",
       "                                             categories  \n",
       "26421        Breakfast & Brunch, Restaurants, Creperies  \n",
       "32748                              Burgers, Restaurants  \n",
       "45659                                Restaurants, Pizza  \n",
       "68219                        Mexican, Food, Restaurants  \n",
       "67255  Sandwiches, Restaurants, Salad, Fast Food, Delis  \n",
       "\n",
       "[5 rows x 28 columns]"
      ]
     },
     "execution_count": 20,
     "metadata": {},
     "output_type": "execute_result"
    }
   ],
   "source": [
    "# One business per city\n",
    "unique_city_businesses = ratings_entire_df[['city','business_id']].drop_duplicates()\n",
    "\n",
    "# Cities must have at least 100 unique businesses\n",
    "unique_cities = unique_city_businesses.groupby('city').count()['business_id']\n",
    "print(str(len(unique_cities)))\n",
    "unique_cities = unique_cities[unique_cities > 100]\n",
    "print(str(len(unique_cities)))\n",
    "\n",
    "# The users must also have made a postive review(above their historical average)\n",
    "# to those selected restaurants\n",
    "out = pd.DataFrame()\n",
    "for city in unique_cities.index:\n",
    "    # Only those business in city having rating greater than average rating\n",
    "    tmp = ratings_holdout[(ratings_holdout['city'] == city) &\n",
    "                              (ratings_holdout['rating'] > ratings_holdout['average_stars'])]\n",
    "    # Sample only 5 users from each city\n",
    "    if len(tmp['user_id'].unique()) > 4:\n",
    "        ###this weird sampling technique is to ensure we dont' sample the same user twice in a same city\n",
    "        five_users = np.random.choice(tmp['user_id'].unique(), 5, replace = False)\n",
    "        row = tmp[tmp['user_id'].isin(five_users)].groupby('user_id', group_keys=False).apply(lambda df: df.sample(1))\n",
    "        out = out.append(row)\n",
    "\n",
    "# print(str(len(out)))\n",
    "out.head()"
   ]
  },
  {
   "cell_type": "code",
   "execution_count": 21,
   "metadata": {},
   "outputs": [],
   "source": [
    "predict_df = out[['user_id','city','state']]\n",
    "predict_df = predict_df.merge(unique_city_businesses, on = 'city')\n",
    "predict_df.to_csv('data/metric_sample.csv')"
   ]
  },
  {
   "cell_type": "code",
   "execution_count": 22,
   "metadata": {},
   "outputs": [],
   "source": [
    "# random initialization, needs to be substituted by actual predictions later.\n",
    "predict_df['predictions'] = 2.5"
   ]
  },
  {
   "cell_type": "code",
   "execution_count": 23,
   "metadata": {},
   "outputs": [],
   "source": [
    "# How many of them are restaurants they have not visited (Serendipity)\n",
    "\n",
    "def get_all_metrics(predict_df, validation_subsample, ratings_train_final):\n",
    "    top_10_recs = predict_df.groupby(['user_id','city'])['predictions'].nlargest(10).reset_index()\n",
    "    out = validation_subsample\n",
    "    cnt =0\n",
    "    serendipity = 0\n",
    "    \n",
    "    for row in out.iterrows():\n",
    "        row_values = row[1]\n",
    "#         print(row_values)\n",
    "#         break\n",
    "        top_10 = predict_df.loc[top_10_recs[top_10_recs['user_id'] == row_values['user_id']].level_2]['business_id']\n",
    "        ###In top 10\n",
    "        if row_values['business_id'] in top_10.values:\n",
    "            cnt+=1\n",
    "        user_history = ratings_train_final[ratings_train_final['user_id'] == row_values['user_id']]    \n",
    "        been_there = [i for i in top_10.values if i in  user_history.business_id.values]\n",
    "        serendipity += 1-len(been_there)/10\n",
    "    \n",
    "    top_10 = cnt/len(out)\n",
    "    serendipity = serendipity/len(out)\n",
    "    \n",
    "    predict_df = predict_df.reset_index()\n",
    "    \n",
    "    analysis_df = predict_df.merge(top_10_recs, left_on = ['user_id','city','index'], \\\n",
    "                                   right_on = ['user_id','city','level_2'])\n",
    "    \n",
    "    coverage = (analysis_df.groupby('city')['business_id'].nunique()/50).values.mean()\n",
    "    \n",
    "    predict_df['rankings']=predict_df.groupby(['city','user_id'])['predictions']. \\\n",
    "                                                        rank(method=\"first\",ascending = False)\n",
    "    running_rankings =0\n",
    "    for row in out.iterrows():\n",
    "        row_values = row[1]\n",
    "        user_recs = predict_df[(predict_df['user_id']==row_values['user_id'])\n",
    "                            &(predict_df['city']==row_values['city'])\n",
    "                             & (predict_df['business_id']==row_values['business_id'])\n",
    "                              ]\n",
    "#         assert len(user_recs)==1\n",
    "        running_rankings += user_recs['rankings'].sum()\n",
    "\n",
    "    avg_rank = running_rankings / len(out)\n",
    "    print(top_10, coverage, serendipity, avg_rank)\n",
    "    \n",
    "    return top_10, coverage, serendipity, avg_rank"
   ]
  },
  {
   "cell_type": "code",
   "execution_count": 24,
   "metadata": {},
   "outputs": [],
   "source": [
    "from surprise import SVD\n",
    "from surprise import accuracy\n",
    "from surprise import Reader\n",
    "from surprise.model_selection import GridSearchCV\n",
    "from surprise import Dataset\n",
    "from surprise import BaselineOnly\n",
    "\n",
    "from sklearn.metrics import r2_score\n",
    "from sklearn.metrics import mean_absolute_error"
   ]
  },
  {
   "cell_type": "code",
   "execution_count": 25,
   "metadata": {},
   "outputs": [
    {
     "name": "stdout",
     "output_type": "stream",
     "text": [
      "944323\n",
      "68774\n",
      "68779\n"
     ]
    }
   ],
   "source": [
    "ratings_train = process(ratings_train_.copy())\n",
    "ratings_test = process(ratings_holdout_.copy())\n",
    "ratings_val = process(ratings_cv_.copy())\n",
    "print(str(len(ratings_train)))\n",
    "print(str(len(ratings_test)))\n",
    "print(str(len(ratings_val)))"
   ]
  },
  {
   "cell_type": "code",
   "execution_count": 26,
   "metadata": {},
   "outputs": [
    {
     "data": {
      "text/html": [
       "<div>\n",
       "<style scoped>\n",
       "    .dataframe tbody tr th:only-of-type {\n",
       "        vertical-align: middle;\n",
       "    }\n",
       "\n",
       "    .dataframe tbody tr th {\n",
       "        vertical-align: top;\n",
       "    }\n",
       "\n",
       "    .dataframe thead th {\n",
       "        text-align: right;\n",
       "    }\n",
       "</style>\n",
       "<table border=\"1\" class=\"dataframe\">\n",
       "  <thead>\n",
       "    <tr style=\"text-align: right;\">\n",
       "      <th></th>\n",
       "      <th>user_id</th>\n",
       "      <th>business_id</th>\n",
       "      <th>rating</th>\n",
       "      <th>date</th>\n",
       "      <th>text</th>\n",
       "      <th>week_day</th>\n",
       "      <th>month</th>\n",
       "      <th>hour</th>\n",
       "      <th>user_name</th>\n",
       "      <th>user_review_count</th>\n",
       "      <th>...</th>\n",
       "      <th>business_name</th>\n",
       "      <th>address</th>\n",
       "      <th>city</th>\n",
       "      <th>state</th>\n",
       "      <th>latitude</th>\n",
       "      <th>longitude</th>\n",
       "      <th>stars</th>\n",
       "      <th>review_counts</th>\n",
       "      <th>is_open</th>\n",
       "      <th>categories</th>\n",
       "    </tr>\n",
       "  </thead>\n",
       "  <tbody>\n",
       "    <tr>\n",
       "      <th>0</th>\n",
       "      <td>jOERvhmK6_lo_XGUBPws_w</td>\n",
       "      <td>Ws8V970-mQt2X9CwCuT5zw</td>\n",
       "      <td>4.0</td>\n",
       "      <td>2009-10-13 04:16:41</td>\n",
       "      <td>I have been here twice. Very nice and laid bac...</td>\n",
       "      <td>1</td>\n",
       "      <td>10</td>\n",
       "      <td>4</td>\n",
       "      <td>Yazmin</td>\n",
       "      <td>112</td>\n",
       "      <td>...</td>\n",
       "      <td>The Urban Tea Loft</td>\n",
       "      <td>11 W Boston St, Ste 2</td>\n",
       "      <td>Chandler</td>\n",
       "      <td>AZ</td>\n",
       "      <td>33.302013</td>\n",
       "      <td>-111.84192</td>\n",
       "      <td>4.0</td>\n",
       "      <td>126</td>\n",
       "      <td>0</td>\n",
       "      <td>Home &amp; Garden, Restaurants, American (New), Sh...</td>\n",
       "    </tr>\n",
       "    <tr>\n",
       "      <th>1</th>\n",
       "      <td>4fNHV9nkjf84BmmKiP1Npw</td>\n",
       "      <td>Ws8V970-mQt2X9CwCuT5zw</td>\n",
       "      <td>4.0</td>\n",
       "      <td>2008-01-23 03:03:37</td>\n",
       "      <td>My mother and I tried this place out in Decemb...</td>\n",
       "      <td>2</td>\n",
       "      <td>1</td>\n",
       "      <td>3</td>\n",
       "      <td>Anne</td>\n",
       "      <td>113</td>\n",
       "      <td>...</td>\n",
       "      <td>The Urban Tea Loft</td>\n",
       "      <td>11 W Boston St, Ste 2</td>\n",
       "      <td>Chandler</td>\n",
       "      <td>AZ</td>\n",
       "      <td>33.302013</td>\n",
       "      <td>-111.84192</td>\n",
       "      <td>4.0</td>\n",
       "      <td>126</td>\n",
       "      <td>0</td>\n",
       "      <td>Home &amp; Garden, Restaurants, American (New), Sh...</td>\n",
       "    </tr>\n",
       "    <tr>\n",
       "      <th>2</th>\n",
       "      <td>2-XLTj0Cfd81_XlmHo02Aw</td>\n",
       "      <td>Ws8V970-mQt2X9CwCuT5zw</td>\n",
       "      <td>3.0</td>\n",
       "      <td>2011-07-31 18:06:28</td>\n",
       "      <td>This is my second visit to Urban Tea Loft and ...</td>\n",
       "      <td>6</td>\n",
       "      <td>7</td>\n",
       "      <td>18</td>\n",
       "      <td>Deb</td>\n",
       "      <td>1010</td>\n",
       "      <td>...</td>\n",
       "      <td>The Urban Tea Loft</td>\n",
       "      <td>11 W Boston St, Ste 2</td>\n",
       "      <td>Chandler</td>\n",
       "      <td>AZ</td>\n",
       "      <td>33.302013</td>\n",
       "      <td>-111.84192</td>\n",
       "      <td>4.0</td>\n",
       "      <td>126</td>\n",
       "      <td>0</td>\n",
       "      <td>Home &amp; Garden, Restaurants, American (New), Sh...</td>\n",
       "    </tr>\n",
       "    <tr>\n",
       "      <th>3</th>\n",
       "      <td>wxeTtPILiMl1L-yBB-D2HA</td>\n",
       "      <td>Ws8V970-mQt2X9CwCuT5zw</td>\n",
       "      <td>5.0</td>\n",
       "      <td>2010-11-23 20:54:54</td>\n",
       "      <td>Introduced another newbie to the Tea Loft. Sti...</td>\n",
       "      <td>1</td>\n",
       "      <td>11</td>\n",
       "      <td>20</td>\n",
       "      <td>Dani</td>\n",
       "      <td>233</td>\n",
       "      <td>...</td>\n",
       "      <td>The Urban Tea Loft</td>\n",
       "      <td>11 W Boston St, Ste 2</td>\n",
       "      <td>Chandler</td>\n",
       "      <td>AZ</td>\n",
       "      <td>33.302013</td>\n",
       "      <td>-111.84192</td>\n",
       "      <td>4.0</td>\n",
       "      <td>126</td>\n",
       "      <td>0</td>\n",
       "      <td>Home &amp; Garden, Restaurants, American (New), Sh...</td>\n",
       "    </tr>\n",
       "    <tr>\n",
       "      <th>4</th>\n",
       "      <td>wxeTtPILiMl1L-yBB-D2HA</td>\n",
       "      <td>Ws8V970-mQt2X9CwCuT5zw</td>\n",
       "      <td>5.0</td>\n",
       "      <td>2009-02-16 23:26:19</td>\n",
       "      <td>I had lunch here today. Took my Brownie troop ...</td>\n",
       "      <td>0</td>\n",
       "      <td>2</td>\n",
       "      <td>23</td>\n",
       "      <td>Dani</td>\n",
       "      <td>233</td>\n",
       "      <td>...</td>\n",
       "      <td>The Urban Tea Loft</td>\n",
       "      <td>11 W Boston St, Ste 2</td>\n",
       "      <td>Chandler</td>\n",
       "      <td>AZ</td>\n",
       "      <td>33.302013</td>\n",
       "      <td>-111.84192</td>\n",
       "      <td>4.0</td>\n",
       "      <td>126</td>\n",
       "      <td>0</td>\n",
       "      <td>Home &amp; Garden, Restaurants, American (New), Sh...</td>\n",
       "    </tr>\n",
       "  </tbody>\n",
       "</table>\n",
       "<p>5 rows × 28 columns</p>\n",
       "</div>"
      ],
      "text/plain": [
       "                  user_id             business_id  rating                date  \\\n",
       "0  jOERvhmK6_lo_XGUBPws_w  Ws8V970-mQt2X9CwCuT5zw     4.0 2009-10-13 04:16:41   \n",
       "1  4fNHV9nkjf84BmmKiP1Npw  Ws8V970-mQt2X9CwCuT5zw     4.0 2008-01-23 03:03:37   \n",
       "2  2-XLTj0Cfd81_XlmHo02Aw  Ws8V970-mQt2X9CwCuT5zw     3.0 2011-07-31 18:06:28   \n",
       "3  wxeTtPILiMl1L-yBB-D2HA  Ws8V970-mQt2X9CwCuT5zw     5.0 2010-11-23 20:54:54   \n",
       "4  wxeTtPILiMl1L-yBB-D2HA  Ws8V970-mQt2X9CwCuT5zw     5.0 2009-02-16 23:26:19   \n",
       "\n",
       "                                                text  week_day  month  hour  \\\n",
       "0  I have been here twice. Very nice and laid bac...         1     10     4   \n",
       "1  My mother and I tried this place out in Decemb...         2      1     3   \n",
       "2  This is my second visit to Urban Tea Loft and ...         6      7    18   \n",
       "3  Introduced another newbie to the Tea Loft. Sti...         1     11    20   \n",
       "4  I had lunch here today. Took my Brownie troop ...         0      2    23   \n",
       "\n",
       "  user_name  user_review_count  ...       business_name  \\\n",
       "0    Yazmin                112  ...  The Urban Tea Loft   \n",
       "1      Anne                113  ...  The Urban Tea Loft   \n",
       "2       Deb               1010  ...  The Urban Tea Loft   \n",
       "3      Dani                233  ...  The Urban Tea Loft   \n",
       "4      Dani                233  ...  The Urban Tea Loft   \n",
       "\n",
       "                 address      city  state   latitude  longitude stars  \\\n",
       "0  11 W Boston St, Ste 2  Chandler     AZ  33.302013 -111.84192   4.0   \n",
       "1  11 W Boston St, Ste 2  Chandler     AZ  33.302013 -111.84192   4.0   \n",
       "2  11 W Boston St, Ste 2  Chandler     AZ  33.302013 -111.84192   4.0   \n",
       "3  11 W Boston St, Ste 2  Chandler     AZ  33.302013 -111.84192   4.0   \n",
       "4  11 W Boston St, Ste 2  Chandler     AZ  33.302013 -111.84192   4.0   \n",
       "\n",
       "   review_counts is_open                                         categories  \n",
       "0            126       0  Home & Garden, Restaurants, American (New), Sh...  \n",
       "1            126       0  Home & Garden, Restaurants, American (New), Sh...  \n",
       "2            126       0  Home & Garden, Restaurants, American (New), Sh...  \n",
       "3            126       0  Home & Garden, Restaurants, American (New), Sh...  \n",
       "4            126       0  Home & Garden, Restaurants, American (New), Sh...  \n",
       "\n",
       "[5 rows x 28 columns]"
      ]
     },
     "execution_count": 26,
     "metadata": {},
     "output_type": "execute_result"
    }
   ],
   "source": [
    "ratings_train.columns\n",
    "ratings_train.head()"
   ]
  },
  {
   "cell_type": "code",
   "execution_count": 27,
   "metadata": {},
   "outputs": [
    {
     "name": "stdout",
     "output_type": "stream",
     "text": [
      "944323\n",
      "63242\n",
      "64220\n"
     ]
    }
   ],
   "source": [
    "# remove observations that may cause cold-start problem, which breaks the model.\n",
    "ratings_test = ratings_test.loc[ratings_test.business_id.isin(ratings_train.business_id)]\n",
    "ratings_val = ratings_val.loc[ratings_val.business_id.isin(ratings_train.business_id)]\n",
    "print(str(len(ratings_train)))\n",
    "print(str(len(ratings_test)))\n",
    "print(str(len(ratings_val)))"
   ]
  },
  {
   "cell_type": "code",
   "execution_count": 28,
   "metadata": {},
   "outputs": [],
   "source": [
    "trainset = ratings_train.loc[:,['user_id', 'business_id', 'rating']]\n",
    "trainset.columns = ['userID', 'itemID','rating']\n",
    "valset = ratings_val.loc[:, ['user_id', 'business_id', 'rating']]\n",
    "valset.columns = ['userID', 'itemID','rating']\n",
    "testset = ratings_holdout.loc[:, ['user_id', 'business_id', 'rating']]\n",
    "testset.columns = ['userID', 'itemID','rating']"
   ]
  },
  {
   "cell_type": "code",
   "execution_count": 29,
   "metadata": {},
   "outputs": [],
   "source": [
    "# The Reader class is used to parse a file containing ratings.\n",
    "# Such a file is assumed to specify only one rating per line,\n",
    "# and each line needs to respect the following structure:\n",
    "# user ; item ; rating ; [timestamp]\n",
    "\n",
    "reader = Reader(rating_scale = (0.0, 5.0))\n",
    "train_data = Dataset.load_from_df(trainset[['userID','itemID','rating']], reader)\n",
    "val_data = Dataset.load_from_df(valset[['userID','itemID','rating']], reader)\n",
    "test_data = Dataset.load_from_df(testset[['userID','itemID','rating']], reader)\n",
    "\n",
    "train_sr = train_data.build_full_trainset()\n",
    "val_sr_before = val_data.build_full_trainset()\n",
    "val_sr = val_sr_before.build_testset()\n",
    "test_sr_before = test_data.build_full_trainset()\n",
    "test_sr = test_sr_before.build_testset()"
   ]
  },
  {
   "cell_type": "code",
   "execution_count": 30,
   "metadata": {},
   "outputs": [
    {
     "name": "stdout",
     "output_type": "stream",
     "text": [
      "Estimating biases using als...\n",
      "RMSE: 1.3443\n"
     ]
    },
    {
     "data": {
      "text/plain": [
       "1.344325874634335"
      ]
     },
     "execution_count": 30,
     "metadata": {},
     "output_type": "execute_result"
    }
   ],
   "source": [
    "# You can configure the way baselines are computed using the\n",
    "# bsl_options parameter passed at the creation of an algorithm. \n",
    "# This parameter is a dictionary for which the key 'method' indicates \n",
    "# the method to use. Accepted values are 'als' (default) and 'sgd'. \n",
    "# Depending on its value, other options may be set.\n",
    "\n",
    "# Hyperparameters for Baseline method\n",
    "# @method: optimization method\n",
    "# @ als: Alternating Least Square: a method that approaches solution for \n",
    "#        our baseline model’s loss function (*) via iterative updates on \n",
    "#        both bᵤ and bᵢ alternatively.\n",
    "bsl_options = {'method': 'als', 'n_epochs':3}\n",
    "bias_baseline = BaselineOnly(bsl_options)\n",
    "# The algo.fit() fits the model on training set.\n",
    "bias_baseline.fit(train_sr)\n",
    "# The algo.test() yields predictions on validation set.\n",
    "predictions = bias_baseline.test(val_sr)\n",
    "accuracy.rmse(predictions)"
   ]
  },
  {
   "cell_type": "code",
   "execution_count": 31,
   "metadata": {},
   "outputs": [
    {
     "name": "stdout",
     "output_type": "stream",
     "text": [
      "Estimating biases using als...\n",
      "RMSE: 1.3444\n"
     ]
    },
    {
     "data": {
      "text/plain": [
       "1.344353412579548"
      ]
     },
     "execution_count": 31,
     "metadata": {},
     "output_type": "execute_result"
    }
   ],
   "source": [
    "bsl_options = {'method': 'als', 'n_epochs':5}\n",
    "bias_baseline = BaselineOnly(bsl_options)\n",
    "bias_baseline.fit(train_sr)\n",
    "predictions = bias_baseline.test(val_sr)\n",
    "accuracy.rmse(predictions)"
   ]
  },
  {
   "cell_type": "code",
   "execution_count": 32,
   "metadata": {},
   "outputs": [
    {
     "name": "stdout",
     "output_type": "stream",
     "text": [
      "Estimating biases using als...\n",
      "RMSE: 1.3444\n"
     ]
    },
    {
     "data": {
      "text/plain": [
       "1.344354354759994"
      ]
     },
     "execution_count": 32,
     "metadata": {},
     "output_type": "execute_result"
    }
   ],
   "source": [
    "bsl_options = {'method': 'als', 'n_epochs':9}\n",
    "bias_baseline = BaselineOnly(bsl_options)\n",
    "bias_baseline.fit(train_sr)\n",
    "predictions = bias_baseline.test(val_sr)\n",
    "accuracy.rmse(predictions)"
   ]
  },
  {
   "cell_type": "code",
   "execution_count": 34,
   "metadata": {},
   "outputs": [],
   "source": [
    "# Observation: \n",
    "# It seems different hyperparameters all performs the same result; \n",
    "# the team just uses default.\n",
    "\n",
    "# Evaluation:\n",
    "# Note: the team has evaluated this and the following algorithms \n",
    "# on 20%, 50%, 100% training data respectively. For readability, \n",
    "# only result on 20% data is displayed. For full result, please \n",
    "# refer to a result table enclosed."
   ]
  },
  {
   "cell_type": "code",
   "execution_count": 33,
   "metadata": {},
   "outputs": [
    {
     "name": "stdout",
     "output_type": "stream",
     "text": [
      "Estimating biases using als...\n",
      "--- 2.0309667587280273 seconds ---\n"
     ]
    }
   ],
   "source": [
    "# runtime on 20% data\n",
    "start_time = time.time()\n",
    "bias_baseline.fit(train_sr)\n",
    "print(\"--- %s seconds ---\" % (time.time() - start_time))"
   ]
  },
  {
   "cell_type": "code",
   "execution_count": 39,
   "metadata": {},
   "outputs": [
    {
     "name": "stdout",
     "output_type": "stream",
     "text": [
      "68774\n",
      "RMSE: 1.4082\n",
      "R^2 (with 20% data):  0.17462442189058336\n",
      "MAE (with 20% data):  1.1842901828893122\n",
      "--- 0.09343266487121582 seconds ---\n"
     ]
    }
   ],
   "source": [
    "# Regression metrics\n",
    "# The most commonly used metric for regression tasks is \n",
    "# RMSE (Root Mean Square Error). This is defined as the square root \n",
    "# of the average squared distance between the actual score and the predicted score:\n",
    "# rmse=√∑ni=1(yi−yi^)2/n\n",
    "# Here, yi denotes the true score for the i-th data point, and ŷ i$^ denotes \n",
    "# the predicted value. One intuitive way to understand this formula is that it is \n",
    "# the Euclidean distance between the vector of the true scores and the vector of \n",
    "# the predicted scores, averaged by √n, where n is the number of data points.\n",
    "\n",
    "# R-squared: it ranges from zero to one, with zero indicating that the proposed model\n",
    "# does not improve prediction over the mean model, and one indicating perfect prediction.\n",
    "\n",
    "# RMSE is a good measure of how accurately the model predicts the response, \n",
    "# and it is the most important criterion for fit if the main purpose of \n",
    "# the model is prediction.\n",
    "\n",
    "# Mean Absolute Error: MAE is the absolute difference between the target value and \n",
    "# the value predicted by the model. The MAE is more robust to outliers and does not penalize \n",
    "# the errors as extremely as mse. MAE is a linear score which means all the individual \n",
    "# differences are weighted equally. It is not suitable for applications where you want \n",
    "# to pay more attention to the outliers.\n",
    "\n",
    "# *** Higher values of R^2 indicate better fit. ***\n",
    "# *** Lower values of RMSE indicate better fit. ***\n",
    "# *** Lower values of MAE indicate better fit. ***\n",
    "\n",
    "bbase_p = bias_baseline.test(test_sr)\n",
    "start_time = time.time()\n",
    "bbase_20_df = pd.DataFrame(bbase_p, columns = ['userId','itemId','rating','pred_rating','x'])\n",
    "bbase_20_df.head()\n",
    "print(str(len(bbase_20_df)))\n",
    "accuracy.rmse(bbase_p)\n",
    "print('R^2 (with 20% data): ', r2_score(bbase_20_df.rating , bbase_20_df.pred_rating))\n",
    "print('MAE (with 20% data): ', mean_absolute_error(bbase_20_df.rating, bbase_20_df.pred_rating))\n",
    "print(\"--- %s seconds ---\" % (time.time() - start_time))\n"
   ]
  },
  {
   "cell_type": "code",
   "execution_count": 42,
   "metadata": {},
   "outputs": [
    {
     "name": "stdout",
     "output_type": "stream",
     "text": [
      "Estimating biases using als...\n"
     ]
    }
   ],
   "source": [
    "# Ranking + coverage + novelty metrics\n",
    "predict_df_baseline = predict_df.copy()\n",
    "eval_set = Dataset.load_from_df(predict_df_baseline[['user_id','business_id','predictions']], reader)\n",
    "\n",
    "bias_basline = BaselineOnly({'method': 'als', 'n_epochs':9})\n",
    "eval_before = eval_set.build_full_trainset()\n",
    "eval_sr = eval_before.build_testset()\n",
    "bias_basline.fit(train_sr)\n",
    "eval_pred = bias_basline.test(eval_sr)\n",
    "#accuracy.rmse(predictions_50)\n",
    "baseline_20 = pd.DataFrame(eval_pred, columns = ['userId','itemId','rating','pred_rating','x'])\n",
    "predict_df_baseline['predictions'] = baseline_20.pred_rating"
   ]
  },
  {
   "cell_type": "code",
   "execution_count": 51,
   "metadata": {},
   "outputs": [
    {
     "name": "stdout",
     "output_type": "stream",
     "text": [
      "470\n"
     ]
    }
   ],
   "source": [
    "predict_df_baseline_unique = predict_df_baseline.groupby('user_id')\n",
    "predict_df_baseline_unique.head(50)\n",
    "print(str(len(predict_df_baseline_unique)))"
   ]
  },
  {
   "cell_type": "code",
   "execution_count": 57,
   "metadata": {},
   "outputs": [
    {
     "name": "stdout",
     "output_type": "stream",
     "text": [
      "4700\n",
      "                     user_id     city  level_2  predictions\n",
      "0     --neBDssyZlHqAWgrHtUBQ  Vaughan   663375          2.5\n",
      "1     --neBDssyZlHqAWgrHtUBQ  Vaughan   663376          2.5\n",
      "2     --neBDssyZlHqAWgrHtUBQ  Vaughan   663377          2.5\n",
      "3     --neBDssyZlHqAWgrHtUBQ  Vaughan   663378          2.5\n",
      "4     --neBDssyZlHqAWgrHtUBQ  Vaughan   663379          2.5\n",
      "...                      ...      ...      ...          ...\n",
      "4695  zzo--VpSQh8PpsGVeMC1dQ  Vaughan   666196          2.5\n",
      "4696  zzo--VpSQh8PpsGVeMC1dQ  Vaughan   666197          2.5\n",
      "4697  zzo--VpSQh8PpsGVeMC1dQ  Vaughan   666198          2.5\n",
      "4698  zzo--VpSQh8PpsGVeMC1dQ  Vaughan   666199          2.5\n",
      "4699  zzo--VpSQh8PpsGVeMC1dQ  Vaughan   666200          2.5\n",
      "\n",
      "[4700 rows x 4 columns]\n"
     ]
    }
   ],
   "source": [
    "# print(str(len(out)))\n",
    "# print(str(len(ratings_train_final)))\n",
    "top_10_recs = predict_df.groupby(['user_id','city'])['predictions'].nlargest(10).reset_index()\n",
    "print(str(len(top_10_recs)))\n",
    "print(top_10_recs)"
   ]
  },
  {
   "cell_type": "code",
   "execution_count": 52,
   "metadata": {},
   "outputs": [
    {
     "name": "stdout",
     "output_type": "stream",
     "text": [
      "0.13617021276595745 0.20191489361702125 0.9834042553191483 538.5361702127659\n"
     ]
    }
   ],
   "source": [
    "top_10, coverage, serendipity, avg_rank = get_all_metrics(predict_df_baseline, out, ratings_train_final)"
   ]
  },
  {
   "cell_type": "code",
   "execution_count": 39,
   "metadata": {},
   "outputs": [],
   "source": [
    "import matplotlib.pyplot as plt\n",
    "import json\n",
    "from tqdm import tqdm"
   ]
  },
  {
   "cell_type": "code",
   "execution_count": 40,
   "metadata": {},
   "outputs": [],
   "source": [
    "# This will follow the same process as the above model so can be skipped\n",
    "def process(df):\n",
    "    df['date']  = pd.to_datetime(df['date'])\n",
    "    df['week_day'] = df['date'].dt.weekday\n",
    "    df['month'] = df['date'].dt.month\n",
    "    df['hour'] = df['date'].dt.hour\n",
    "    df = df.merge(users_, on = 'user_id')\n",
    "    df = df.merge(business_, on = 'business_id')\n",
    "    rename_dict = {'business_longitude': 'longitude', 'business_latitude': 'latitude',\n",
    "              'business_state':'state','business_city':'city', 'business_address': 'address'}\n",
    "    df = df.rename(columns = rename_dict)\n",
    "    return df\n",
    "ratings_train = process(ratings_train_.copy())\n",
    "ratings_test = process(ratings_holdout_.copy())\n",
    "ratings_val = process(ratings_cv_.copy())"
   ]
  },
  {
   "cell_type": "code",
   "execution_count": 41,
   "metadata": {},
   "outputs": [],
   "source": [
    "ratings_test = ratings_test.loc[ratings_test.business_id.isin(ratings_train.business_id)]\n",
    "ratings_val = ratings_val.loc[ratings_val.business_id.isin(ratings_train.business_id)]"
   ]
  },
  {
   "cell_type": "code",
   "execution_count": 43,
   "metadata": {},
   "outputs": [],
   "source": [
    "trainset = ratings_train.loc[:,['user_id', 'business_id', 'rating']]\n",
    "trainset.columns = ['userID', 'itemID','rating']\n",
    "valset = ratings_val.loc[:, ['user_id', 'business_id', 'rating']]\n",
    "valset.columns = ['userID', 'itemID','rating']\n",
    "testset = ratings_holdout.loc[:, ['user_id', 'business_id', 'rating']]\n",
    "testset.columns = ['userID', 'itemID','rating']"
   ]
  },
  {
   "cell_type": "code",
   "execution_count": 44,
   "metadata": {},
   "outputs": [],
   "source": [
    "reader = Reader(rating_scale = (0.0, 5.0))\n",
    "train_data = Dataset.load_from_df(trainset[['userID','itemID','rating']], reader)\n",
    "val_data = Dataset.load_from_df(valset[['userID','itemID','rating']], reader)\n",
    "test_data = Dataset.load_from_df(testset[['userID','itemID','rating']], reader)\n",
    "\n",
    "train_sr = train_data.build_full_trainset()\n",
    "val_sr_before = val_data.build_full_trainset()\n",
    "val_sr = val_sr_before.build_testset()\n",
    "test_sr_before = test_data.build_full_trainset()\n",
    "test_sr = test_sr_before.build_testset()"
   ]
  },
  {
   "cell_type": "code",
   "execution_count": 45,
   "metadata": {},
   "outputs": [
    {
     "name": "stdout",
     "output_type": "stream",
     "text": [
      "Fitting n: 10, l: 0.001, r: 0.02\n",
      "RMSE: 1.4361\n",
      "Fitting n: 10, l: 0.001, r: 0.05\n",
      "RMSE: 1.4360\n",
      "Fitting n: 10, l: 0.001, r: 0.1\n",
      "RMSE: 1.4365\n",
      "Fitting n: 10, l: 0.001, r: 0.4\n",
      "RMSE: 1.4377\n",
      "Fitting n: 10, l: 0.001, r: 0.5\n",
      "RMSE: 1.4385\n",
      "Fitting n: 10, l: 0.003, r: 0.02\n",
      "RMSE: 1.3826\n",
      "Fitting n: 10, l: 0.003, r: 0.05\n",
      "RMSE: 1.3835\n",
      "Fitting n: 10, l: 0.003, r: 0.1\n",
      "RMSE: 1.3836\n",
      "Fitting n: 10, l: 0.003, r: 0.4\n",
      "RMSE: 1.3875\n",
      "Fitting n: 10, l: 0.003, r: 0.5\n",
      "RMSE: 1.3894\n",
      "Fitting n: 10, l: 0.005, r: 0.02\n",
      "RMSE: 1.3569\n",
      "Fitting n: 10, l: 0.005, r: 0.05\n",
      "RMSE: 1.3561\n",
      "Fitting n: 10, l: 0.005, r: 0.1\n",
      "RMSE: 1.3568\n",
      "Fitting n: 10, l: 0.005, r: 0.4\n",
      "RMSE: 1.3628\n",
      "Fitting n: 10, l: 0.005, r: 0.5\n",
      "RMSE: 1.3647\n",
      "Fitting n: 20, l: 0.001, r: 0.02\n",
      "RMSE: 1.4038\n",
      "Fitting n: 20, l: 0.001, r: 0.05\n",
      "RMSE: 1.4043\n",
      "Fitting n: 20, l: 0.001, r: 0.1\n",
      "RMSE: 1.4048\n",
      "Fitting n: 20, l: 0.001, r: 0.4\n",
      "RMSE: 1.4081\n",
      "Fitting n: 20, l: 0.001, r: 0.5\n",
      "RMSE: 1.4095\n",
      "Fitting n: 20, l: 0.003, r: 0.02\n",
      "RMSE: 1.3485\n",
      "Fitting n: 20, l: 0.003, r: 0.05\n",
      "RMSE: 1.3478\n",
      "Fitting n: 20, l: 0.003, r: 0.1\n",
      "RMSE: 1.3485\n",
      "Fitting n: 20, l: 0.003, r: 0.4\n",
      "RMSE: 1.3546\n",
      "Fitting n: 20, l: 0.003, r: 0.5\n",
      "RMSE: 1.3575\n",
      "Fitting n: 20, l: 0.005, r: 0.02\n",
      "RMSE: 1.3300\n",
      "Fitting n: 20, l: 0.005, r: 0.05\n",
      "RMSE: 1.3292\n",
      "Fitting n: 20, l: 0.005, r: 0.1\n",
      "RMSE: 1.3283\n",
      "Fitting n: 20, l: 0.005, r: 0.4\n",
      "RMSE: 1.3347\n",
      "Fitting n: 20, l: 0.005, r: 0.5\n",
      "RMSE: 1.3377\n",
      "Fitting n: 30, l: 0.001, r: 0.02\n",
      "RMSE: 1.3834\n",
      "Fitting n: 30, l: 0.001, r: 0.05\n",
      "RMSE: 1.3831\n",
      "Fitting n: 30, l: 0.001, r: 0.1\n",
      "RMSE: 1.3835\n",
      "Fitting n: 30, l: 0.001, r: 0.4\n",
      "RMSE: 1.3884\n",
      "Fitting n: 30, l: 0.001, r: 0.5\n",
      "RMSE: 1.3896\n",
      "Fitting n: 30, l: 0.003, r: 0.02\n",
      "RMSE: 1.3336\n",
      "Fitting n: 30, l: 0.003, r: 0.05\n",
      "RMSE: 1.3314\n",
      "Fitting n: 30, l: 0.003, r: 0.1\n",
      "RMSE: 1.3324\n",
      "Fitting n: 30, l: 0.003, r: 0.4\n",
      "RMSE: 1.3382\n",
      "Fitting n: 30, l: 0.003, r: 0.5\n",
      "RMSE: 1.3415\n",
      "Fitting n: 30, l: 0.005, r: 0.02\n",
      "RMSE: 1.3246\n",
      "Fitting n: 30, l: 0.005, r: 0.05\n",
      "RMSE: 1.3205\n",
      "Fitting n: 30, l: 0.005, r: 0.1\n",
      "RMSE: 1.3175\n",
      "Fitting n: 30, l: 0.005, r: 0.4\n",
      "RMSE: 1.3236\n",
      "Fitting n: 30, l: 0.005, r: 0.5\n",
      "RMSE: 1.3272\n"
     ]
    }
   ],
   "source": [
    "RMSE_tune = {}\n",
    "n_epochs = [10, 20, 30]  # the number of iteration of the SGD procedure\n",
    "lr_all = [0.001, 0.003, 0.005] # the learning rate for all parameters\n",
    "reg_all =  [0.02, 0.05, 0.1, 0.4, 0.5] # the regularization term for all parameters\n",
    "\n",
    "for n in n_epochs:\n",
    "    for l in lr_all:\n",
    "        for r in reg_all:\n",
    "            print('Fitting n: {0}, l: {1}, r: {2}'.format(n, l, r))\n",
    "            algo = SVD(n_epochs = n, lr_all = l, reg_all = r)\n",
    "            algo.fit(train_sr)\n",
    "            predictions = algo.test(val_sr)\n",
    "            RMSE_tune[n,l,r] = accuracy.rmse(predictions)"
   ]
  },
  {
   "cell_type": "code",
   "execution_count": 46,
   "metadata": {},
   "outputs": [
    {
     "data": {
      "text/plain": [
       "(30, 0.005, 0.1)"
      ]
     },
     "execution_count": 46,
     "metadata": {},
     "output_type": "execute_result"
    }
   ],
   "source": [
    "import operator\n",
    "min(RMSE_tune.items(), key=operator.itemgetter(1))[0]"
   ]
  },
  {
   "cell_type": "code",
   "execution_count": 47,
   "metadata": {},
   "outputs": [],
   "source": [
    "# train and test on the optimal parameter\n",
    "start_time = time.time()\n",
    "algo_real = SVD(n_epochs = 30, lr_all = 0.005, reg_all = 0.1)\n",
    "algo_real.fit(train_sr)\n",
    "predictions = algo_real.test(test_sr)"
   ]
  },
  {
   "cell_type": "code",
   "execution_count": 48,
   "metadata": {},
   "outputs": [
    {
     "name": "stdout",
     "output_type": "stream",
     "text": [
      "--- 90.21060490608215 seconds ---\n"
     ]
    }
   ],
   "source": [
    "print(\"--- %s seconds ---\" % (time.time() - start_time))"
   ]
  },
  {
   "cell_type": "code",
   "execution_count": 49,
   "metadata": {},
   "outputs": [
    {
     "name": "stdout",
     "output_type": "stream",
     "text": [
      "RMSE: 1.3831\n"
     ]
    },
    {
     "data": {
      "text/plain": [
       "1.3831055486648447"
      ]
     },
     "execution_count": 49,
     "metadata": {},
     "output_type": "execute_result"
    }
   ],
   "source": [
    "accuracy.rmse(predictions)"
   ]
  },
  {
   "cell_type": "code",
   "execution_count": 50,
   "metadata": {},
   "outputs": [
    {
     "name": "stdout",
     "output_type": "stream",
     "text": [
      "MAE:  1.1368\n"
     ]
    },
    {
     "data": {
      "text/plain": [
       "1.1367805351866709"
      ]
     },
     "execution_count": 50,
     "metadata": {},
     "output_type": "execute_result"
    }
   ],
   "source": [
    "accuracy.mae(predictions)"
   ]
  },
  {
   "cell_type": "code",
   "execution_count": 51,
   "metadata": {},
   "outputs": [
    {
     "data": {
      "text/plain": [
       "0.20381872413296298"
      ]
     },
     "execution_count": 51,
     "metadata": {},
     "output_type": "execute_result"
    }
   ],
   "source": [
    "r2_score([t[2] for t in predictions], [t[3] for t in predictions])"
   ]
  },
  {
   "cell_type": "code",
   "execution_count": 52,
   "metadata": {},
   "outputs": [],
   "source": [
    "# To evaluate coverage and serendipity metrics, use evaluation set created earlier.\n",
    "predict_df_20 = pd.read_csv('data/metric_sample.csv', index_col=0)\n",
    "predict_df_20['predictions'] = 2.5 # fill in this value temporally\n",
    "eval_20 = Dataset.load_from_df(predict_df_20[['user_id','business_id','predictions']], reader)"
   ]
  },
  {
   "cell_type": "code",
   "execution_count": 53,
   "metadata": {},
   "outputs": [],
   "source": [
    "eval_before_20 = eval_20.build_full_trainset()\n",
    "eval_sr_20 = eval_before_20.build_testset()\n",
    "eval_pred_20 = algo_real.test(eval_sr_20)\n",
    "\n",
    "baseline_20 = pd.DataFrame(eval_pred_20, columns = ['userId','itemId','rating','pred_rating','x'])\n",
    "predict_df_20['predictions'] = baseline_20.pred_rating"
   ]
  },
  {
   "cell_type": "code",
   "execution_count": null,
   "metadata": {},
   "outputs": [],
   "source": [
    "top_10, coverage, serendipity, avg_rank = get_all_metrics(predict_df_20, out, ratings_train_final)"
   ]
  },
  {
   "cell_type": "code",
   "execution_count": null,
   "metadata": {},
   "outputs": [],
   "source": []
  }
 ],
 "metadata": {
  "kernelspec": {
   "display_name": "Python 3",
   "language": "python",
   "name": "python3"
  },
  "language_info": {
   "codemirror_mode": {
    "name": "ipython",
    "version": 3
   },
   "file_extension": ".py",
   "mimetype": "text/x-python",
   "name": "python",
   "nbconvert_exporter": "python",
   "pygments_lexer": "ipython3",
   "version": "3.8.3"
  }
 },
 "nbformat": 4,
 "nbformat_minor": 4
}
